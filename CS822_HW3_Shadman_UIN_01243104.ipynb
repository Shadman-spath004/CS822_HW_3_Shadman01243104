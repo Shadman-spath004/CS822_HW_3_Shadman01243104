{
  "cells": [
    {
      "cell_type": "code",
      "execution_count": 1,
      "metadata": {
        "id": "V8VNSbnQ4Ggt"
      },
      "outputs": [],
      "source": [
        "\n",
        "#Answer Question no 2 & 3\n",
        "\n",
        "\n",
        "\n",
        "# Logistic Regression on Breast_canser Dataset\n",
        "from random import seed\n",
        "from random import randrange\n",
        "from csv import reader\n",
        "from math import exp\n",
        "import pandas as pd\n",
        "import numpy as np\n",
        "from sklearn.metrics import roc_curve"
      ]
    },
    {
      "cell_type": "code",
      "execution_count": 2,
      "metadata": {
        "id": "pOPQ7vtc4It1"
      },
      "outputs": [],
      "source": [
        "from sklearn.datasets import load_breast_cancer\n",
        "df=load_breast_cancer()\n",
        "#print(df)   # Its a  dictionary style data "
      ]
    },
    {
      "cell_type": "code",
      "execution_count": 3,
      "metadata": {
        "id": "usozvJjo4Qyh"
      },
      "outputs": [],
      "source": [
        "from array import *\n",
        "\n",
        "# Convering DataFrame to a list containg \n",
        "# all the rows of column 'Name'\n",
        "dataset=df['data'].tolist()\n",
        "#print(dataset)\n",
        "targetset=df['target'].tolist()\n",
        "#print(targetset)\n",
        "\n",
        "DataTargetSet=list()\n",
        "for row in range(len(dataset)):\n",
        "    list1=dataset[row]\n",
        "    list2=targetset[row]\n",
        "    list1.insert(len(dataset[0]), list2)\n",
        "    DataTargetSet.append(list1)\n",
        "# print(DataTargetSet)\n",
        "# print(len(DataTargetSet[0]))"
      ]
    },
    {
      "cell_type": "code",
      "execution_count": 4,
      "metadata": {
        "id": "a3_McApM4WzN"
      },
      "outputs": [],
      "source": [
        "#calculating ecah columns minumum and maximum value\n",
        "def Get_Minmax(dataset):\n",
        "    minmax = list()\n",
        "    for i in range(len(dataset[0])):\n",
        "        col_values = [row[i] for row in dataset]\n",
        "        value_min = min(col_values)\n",
        "        value_max = max(col_values)\n",
        "        minmax.append([value_min, value_max])\n",
        "    return minmax\n",
        "minmax = Get_Minmax(dataset)\n",
        "#print(minmax)"
      ]
    },
    {
      "cell_type": "code",
      "execution_count": 5,
      "metadata": {
        "id": "LUOwBlw24b_T"
      },
      "outputs": [],
      "source": [
        "# Rescale dataset columns to the range 0-1\n",
        "def Get_normalize_dataset(dataset, minmax):\n",
        "    for row in dataset:\n",
        "        for i in range(len(row)):\n",
        "            row[i] = (row[i] - minmax[i][0]) / (minmax[i][1] - minmax[i][0])"
      ]
    },
    {
      "cell_type": "code",
      "execution_count": 6,
      "metadata": {
        "id": "rYJDOdfa4iek"
      },
      "outputs": [],
      "source": [
        "def cross_valid_dataSplit(DataTargetSet, n_folds):\n",
        "    dataset_split = list()\n",
        "    dataset_copy = list(DataTargetSet)\n",
        "    fold_size = int(len(DataTargetSet) / n_folds)\n",
        "    for i in range(n_folds):\n",
        "        fold = list()\n",
        "        while len(fold) < fold_size:\n",
        "            index = randrange(len(dataset_copy))\n",
        "            fold.append(dataset_copy.pop(index))\n",
        "        dataset_split.append(fold)\n",
        "    return dataset_split\n",
        "\n",
        "#cross_valid_dataSplit(dataset, 1)"
      ]
    },
    {
      "cell_type": "code",
      "execution_count": 7,
      "metadata": {
        "id": "7ofBGKo-4ox_"
      },
      "outputs": [],
      "source": [
        "# Calculate accuracy percentage\n",
        "def Get_accuracy_metric(actual, predicted):\n",
        "    correct = 0\n",
        "    for i in range(len(actual)):\n",
        "        if actual[i] == predicted[i]:\n",
        "            correct += 1\n",
        "    return correct / float(len(actual)) * 100.0"
      ]
    },
    {
      "cell_type": "code",
      "execution_count": 8,
      "metadata": {
        "id": "VEBxzDu34t4g"
      },
      "outputs": [],
      "source": [
        "# Evaluating an algorithm using a cross validation split\n",
        "def Get_algorithm(dataset, algorithm, n_folds, *args):\n",
        "    folds = cross_valid_dataSplit(dataset, n_folds)\n",
        "    #zzz=print(folds)    \n",
        "    scores = list()\n",
        "    predicted = list()\n",
        "    probabilities = list()\n",
        "    for fold in folds:\n",
        "        train_set = list(folds)\n",
        "        train_set.remove(fold)\n",
        "        train_set = sum(train_set, [])\n",
        "        #dd=print(train_set)       \n",
        "        test_set = list()\n",
        "        for row in fold:\n",
        "            row_copy = list(row)\n",
        "            test_set.append(row_copy)\n",
        "            row_copy[-1] = None\n",
        "        predicted, probabilities = algorithm(train_set, test_set, *args)\n",
        "        actual = [row[-1] for row in fold]\n",
        "        accuracy = Get_accuracy_metric(actual, predicted)\n",
        "        scores.append(accuracy)\n",
        "        coef = coff_GD(train_set, l_rate, n_epoch)\n",
        "        #probabilities = predict_prob(test_set,coef)\n",
        "        predicted.append(predicted)         \n",
        "        probabilities.append(probabilities)        \n",
        "#print((predictions == Y_test).mean())        \n",
        "        \n",
        "    return scores,  predicted ,probabilities"
      ]
    },
    {
      "cell_type": "code",
      "execution_count": 9,
      "metadata": {
        "id": "OT9zzOSh40Sy"
      },
      "outputs": [],
      "source": [
        "# Make a prediction with coefficients\n",
        "def predict(row, coefficients):\n",
        "    yhat = coefficients[0]\n",
        "    for i in range(len(row)-1):\n",
        "        yhat += coefficients[i + 1] * row[i]\n",
        "    return 1.0 / (1.0 + exp(-yhat))"
      ]
    },
    {
      "cell_type": "code",
      "execution_count": 10,
      "metadata": {
        "id": "YZj15xyA45ME"
      },
      "outputs": [],
      "source": [
        "# Finding logistic regression coefficients using gradient descent\n",
        "def coff_GD(train, l_rate, n_epoch):\n",
        "    coef = [0.0 for i in range(len(train[0]))]\n",
        "    for epoch in range(n_epoch):\n",
        "        for row in train:\n",
        "            yhat = predict(row, coef)\n",
        "            error = row[-1] - yhat\n",
        "            coef[0] = coef[0] + l_rate * error * yhat * (1.0 - yhat)\n",
        "            for i in range(len(row)-1):\n",
        "                coef[i + 1] = coef[i + 1] + l_rate * error * yhat * (1.0 - yhat) * row[i]\n",
        "    return coef"
      ]
    },
    {
      "cell_type": "code",
      "execution_count": 11,
      "metadata": {
        "id": "UNfHjnEX49dY"
      },
      "outputs": [],
      "source": [
        "# Logistic Regression Algorithm With Gradient Descent\n",
        "def logistic_regression(train, test, l_rate, n_epoch):\n",
        "    predictions = list()\n",
        "    probabilities = list()\n",
        "    coef = coff_GD(train, l_rate, n_epoch)\n",
        "    for row in test:\n",
        "        yhat = predict(row, coef) \n",
        "        probabilities.append(yhat)        \n",
        "        yhat = round(yhat)\n",
        "        predictions.append(yhat)\n",
        "    return predictions, probabilities"
      ]
    },
    {
      "cell_type": "code",
      "execution_count": 12,
      "metadata": {
        "id": "mW-qfGz05B1u"
      },
      "outputs": [],
      "source": [
        "# normalize\n",
        "minmax = Get_Minmax(dataset)\n",
        "Get_normalize_dataset(dataset, minmax)"
      ]
    },
    {
      "cell_type": "code",
      "execution_count": 13,
      "metadata": {
        "colab": {
          "base_uri": "https://localhost:8080/"
        },
        "id": "Z4dPd4P45EtM",
        "outputId": "29dc011d-63ed-42b3-bd69-62ff74541513"
      },
      "outputs": [
        {
          "output_type": "stream",
          "name": "stdout",
          "text": [
            "Scores: [97.34513274336283, 97.34513274336283, 96.46017699115043, 99.11504424778761, 97.34513274336283]\n",
            "Mean Accuracy: 97.522%\n"
          ]
        }
      ],
      "source": [
        "# Getting main result\n",
        "n_folds = 5\n",
        "l_rate = 0.1\n",
        "n_epoch = 100\n",
        "scores,  predicted ,probabilities = Get_algorithm(dataset, logistic_regression, n_folds, l_rate, n_epoch)\n",
        "print('Scores: %s' % scores)\n",
        "print('Mean Accuracy: %.3f%%' % (sum(scores)/float(len(scores))))\n",
        "# print(predicted)\n",
        "# print(probabilities)"
      ]
    },
    {
      "cell_type": "code",
      "execution_count": 14,
      "metadata": {
        "id": "p6O_jW0Z5InJ"
      },
      "outputs": [],
      "source": [
        "# Answer Question no. 4"
      ]
    },
    {
      "cell_type": "code",
      "execution_count": 15,
      "metadata": {
        "id": "jwi12U3A5yNg"
      },
      "outputs": [],
      "source": [
        "# import numpy as np\n",
        "from sklearn.datasets import load_breast_cancer\n",
        "from sklearn.model_selection import train_test_split\n",
        "from sklearn.linear_model import LogisticRegression\n",
        "from matplotlib import pyplot as plt\n",
        "from sklearn.metrics import roc_curve, roc_auc_score"
      ]
    },
    {
      "cell_type": "code",
      "execution_count": 16,
      "metadata": {
        "id": "7o-a2r0o51j5"
      },
      "outputs": [],
      "source": [
        "# load and split data\n",
        "data = load_breast_cancer()\n",
        "X = data.data\n",
        "Y = data.target\n",
        "X_train, X_test, Y_train, Y_test = train_test_split(X, Y, test_size=0.33, random_state=18)"
      ]
    },
    {
      "cell_type": "code",
      "source": [
        "import numpy as np\n",
        "import matplotlib.pyplot as plt\n",
        "\n",
        "def roc_curve(y_true, y_score):\n",
        "    # Sort the true labels and scores in descending order\n",
        "    desc_score_indices = np.argsort(y_score)[::-1]\n",
        "    y_true = y_true[desc_score_indices]\n",
        "    y_score = y_score[desc_score_indices]\n",
        "\n",
        "    # Compute the total number of positive and negative examples\n",
        "    n_positive = np.sum(y_true == 1)\n",
        "    n_negative = np.sum(y_true == 0)\n",
        "\n",
        "    # Initialize arrays to store TPR and FPR values at each threshold\n",
        "    tpr_values = np.zeros_like(y_true, dtype=np.float)\n",
        "    fpr_values = np.zeros_like(y_true, dtype=np.float)\n",
        "\n",
        "    # Iterate over different threshold values\n",
        "    for i, threshold in enumerate(y_score):\n",
        "        # Compute the number of true positives, true negatives, false positives, and false negatives at this threshold\n",
        "        tp = np.sum((y_score >= threshold) & (y_true == 1))\n",
        "        tn = np.sum((y_score < threshold) & (y_true == 0))\n",
        "        fp = np.sum((y_score >= threshold) & (y_true == 0))\n",
        "        fn = np.sum((y_score < threshold) & (y_true == 1))\n",
        "\n",
        "        # Compute TPR and FPR at this threshold\n",
        "        tpr = tp / n_positive\n",
        "        fpr = fp / n_negative\n",
        "\n",
        "        # Store TPR and FPR values\n",
        "        tpr_values[i] = tpr\n",
        "        fpr_values[i] = fpr\n",
        "\n",
        "    # Plot the ROC curve\n",
        "    plt.plot(fpr_values, tpr_values)\n",
        "    plt.xlabel('False Positive Rate')\n",
        "    plt.ylabel('True Positive Rate')\n",
        "    plt.title('ROC Curve')\n",
        "    plt.show()\n"
      ],
      "metadata": {
        "id": "meoB52H2iK_m"
      },
      "execution_count": 20,
      "outputs": []
    },
    {
      "cell_type": "code",
      "execution_count": 17,
      "metadata": {
        "id": "1YlC6Z3N9CQu"
      },
      "outputs": [],
      "source": [
        "def roc_curve_plot(predictions, probabilities):\n",
        "    fpr, tpr, _ = roc_curve(predictions, probabilities)\n",
        "    auc = roc_auc_score(predictions, probabilities)\n",
        "    plt.plot(fpr, tpr, label='data, auc=' + str(auc))\n",
        "    plt.legend(loc=4)\n",
        "    plt.xlabel(\"False Positive Rate\")\n",
        "    plt.ylabel(\"True Positive Rate\")\n",
        "    plt.show()"
      ]
    },
    {
      "cell_type": "code",
      "execution_count": 25,
      "metadata": {
        "colab": {
          "base_uri": "https://localhost:8080/"
        },
        "id": "W2Pdyuzx9F_6",
        "outputId": "980061a2-a6f6-481e-ab6b-223d81f44328"
      },
      "outputs": [
        {
          "output_type": "stream",
          "name": "stdout",
          "text": [
            "0.9414893617021277\n"
          ]
        }
      ],
      "source": [
        "# logistic regression using sklearn library\n",
        "model = LogisticRegression(C=0.1, max_iter=10000)\n",
        "model.fit(X_train, Y_train)\n",
        "sklearn_prediction = model.predict(X_test)\n",
        "sklearn_probabilities = model.predict_proba(X_test)[::, 1]\n",
        "probabilities_final = sklearn_probabilities\n",
        "print((sklearn_prediction == Y_test).mean())\n",
        "\n"
      ]
    },
    {
      "cell_type": "code",
      "source": [
        "# Implementation of ROC Curve algorithm manually\n",
        "\n",
        "def roc_curve(y_true, y_prob):\n",
        "    # Sort the true labels and predicted probabilities in descending order\n",
        "    sorted_idx = np.argsort(y_prob)[::-1]\n",
        "    y_true = y_true[sorted_idx]\n",
        "    y_prob = y_prob[sorted_idx]\n",
        "\n",
        "    # Count the number of positive and negative examples in the dataset\n",
        "    num_pos = np.sum(y_true == 1)\n",
        "    num_neg = np.sum(y_true == 0)\n",
        "\n",
        "    # Initialize the true positive rate, false positive rate, and thresholds\n",
        "    tpr = np.zeros(len(y_true) + 1)\n",
        "    fpr = np.zeros(len(y_true) + 1)\n",
        "    thresholds = np.zeros(len(y_true) + 1)\n",
        "\n",
        "    # Calculate the TPR and FPR for each threshold value\n",
        "    for i in range(len(y_true)):\n",
        "        if i == 0:\n",
        "            tpr[i] = 0\n",
        "            fpr[i] = 0\n",
        "        else:\n",
        "            tp = np.sum(y_true[:i] == 1)\n",
        "            fp = np.sum(y_true[:i] == 0)\n",
        "            tpr[i] = tp / num_pos\n",
        "            fpr[i] = fp / num_neg\n",
        "            thresholds[i] = y_prob[i-1]\n",
        "\n",
        "    tpr[len(y_true)] = 1\n",
        "    fpr[len(y_true)] = 1\n",
        "    thresholds[len(y_true)] = thresholds[len(y_true)-1]\n",
        "\n",
        "    return tpr, fpr, thresholds\n"
      ],
      "metadata": {
        "id": "hSV0ZZjAjSpr"
      },
      "execution_count": 26,
      "outputs": []
    },
    {
      "cell_type": "code",
      "source": [
        "# Generate some sample data\n",
        "y_true = Y_test\n",
        "y_prob = probabilities_final\n",
        "\n",
        "# Calculate the TPR, FPR, and thresholds\n",
        "tpr, fpr, thresholds = roc_curve(y_true, y_prob)\n",
        "\n",
        "# Plot the ROC curve\n",
        "plt.plot(fpr, tpr)\n",
        "plt.xlabel('False Positive Rate')\n",
        "plt.ylabel('True Positive Rate')\n",
        "plt.title('ROC Curve')\n",
        "plt.show()\n"
      ],
      "metadata": {
        "colab": {
          "base_uri": "https://localhost:8080/",
          "height": 472
        },
        "id": "v1ocA0s4k2NP",
        "outputId": "ac7a20b9-b18d-4efa-ff9b-60bcaec1e173"
      },
      "execution_count": 27,
      "outputs": [
        {
          "output_type": "display_data",
          "data": {
            "text/plain": [
              "<Figure size 640x480 with 1 Axes>"
            ],
            "image/png": "[encoded data removed]"
          },
          "metadata": {}
        }
      ]
    },
    {
      "cell_type": "code",
      "source": [],
      "metadata": {
        "id": "enoGjxY9lPf4"
      },
      "execution_count": null,
      "outputs": []
    }
  ],
  "metadata": {
    "colab": {
      "provenance": []
    },
    "kernelspec": {
      "display_name": "Python 3",
      "name": "python3"
    },
    "language_info": {
      "name": "python"
    }
  },
  "nbformat": 4,
  "nbformat_minor": 0
}