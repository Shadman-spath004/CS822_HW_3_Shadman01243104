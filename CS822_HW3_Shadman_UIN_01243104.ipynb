{
  "nbformat": 4,
  "nbformat_minor": 0,
  "metadata": {
    "colab": {
      "provenance": []
    },
    "kernelspec": {
      "name": "python3",
      "display_name": "Python 3"
    },
    "language_info": {
      "name": "python"
    }
  },
  "cells": [
    {
      "cell_type": "code",
      "execution_count": 1,
      "metadata": {
        "id": "V8VNSbnQ4Ggt"
      },
      "outputs": [],
      "source": [
        "\n",
        "#Answer Question no 2 & 3\n",
        "\n",
        "\n",
        "\n",
        "# Logistic Regression on Breast_canser Dataset\n",
        "from random import seed\n",
        "from random import randrange\n",
        "from csv import reader\n",
        "from math import exp\n",
        "import pandas as pd\n",
        "import numpy as np\n",
        "from sklearn.metrics import roc_curve"
      ]
    },
    {
      "cell_type": "code",
      "source": [
        "from sklearn.datasets import load_breast_cancer\n",
        "df=load_breast_cancer()\n",
        "#print(df)   # Its a  dictionary style data "
      ],
      "metadata": {
        "id": "pOPQ7vtc4It1"
      },
      "execution_count": 2,
      "outputs": []
    },
    {
      "cell_type": "code",
      "source": [
        "from array import *\n",
        "\n",
        "# Convering DataFrame to a list containg \n",
        "# all the rows of column 'Name'\n",
        "dataset=df['data'].tolist()\n",
        "#print(dataset)\n",
        "targetset=df['target'].tolist()\n",
        "#print(targetset)\n",
        "\n",
        "DataTargetSet=list()\n",
        "for row in range(len(dataset)):\n",
        "    list1=dataset[row]\n",
        "    list2=targetset[row]\n",
        "    list1.insert(len(dataset[0]), list2)\n",
        "    DataTargetSet.append(list1)\n",
        "# print(DataTargetSet)\n",
        "# print(len(DataTargetSet[0]))"
      ],
      "metadata": {
        "id": "usozvJjo4Qyh"
      },
      "execution_count": 3,
      "outputs": []
    },
    {
      "cell_type": "code",
      "source": [
        "#calculating ecah columns minumum and maximum value\n",
        "def Get_Minmax(dataset):\n",
        "    minmax = list()\n",
        "    for i in range(len(dataset[0])):\n",
        "        col_values = [row[i] for row in dataset]\n",
        "        value_min = min(col_values)\n",
        "        value_max = max(col_values)\n",
        "        minmax.append([value_min, value_max])\n",
        "    return minmax\n",
        "minmax = Get_Minmax(dataset)\n",
        "#print(minmax)"
      ],
      "metadata": {
        "id": "a3_McApM4WzN"
      },
      "execution_count": 4,
      "outputs": []
    },
    {
      "cell_type": "code",
      "source": [
        "# Rescale dataset columns to the range 0-1\n",
        "def Get_normalize_dataset(dataset, minmax):\n",
        "    for row in dataset:\n",
        "        for i in range(len(row)):\n",
        "            row[i] = (row[i] - minmax[i][0]) / (minmax[i][1] - minmax[i][0])"
      ],
      "metadata": {
        "id": "LUOwBlw24b_T"
      },
      "execution_count": 5,
      "outputs": []
    },
    {
      "cell_type": "code",
      "source": [
        "def cross_valid_dataSplit(DataTargetSet, n_folds):\n",
        "    dataset_split = list()\n",
        "    dataset_copy = list(DataTargetSet)\n",
        "    fold_size = int(len(DataTargetSet) / n_folds)\n",
        "    for i in range(n_folds):\n",
        "        fold = list()\n",
        "        while len(fold) < fold_size:\n",
        "            index = randrange(len(dataset_copy))\n",
        "            fold.append(dataset_copy.pop(index))\n",
        "        dataset_split.append(fold)\n",
        "    return dataset_split\n",
        "\n",
        "#cross_valid_dataSplit(dataset, 1)"
      ],
      "metadata": {
        "id": "rYJDOdfa4iek"
      },
      "execution_count": 6,
      "outputs": []
    },
    {
      "cell_type": "code",
      "source": [
        "# Calculate accuracy percentage\n",
        "def Get_accuracy_metric(actual, predicted):\n",
        "    correct = 0\n",
        "    for i in range(len(actual)):\n",
        "        if actual[i] == predicted[i]:\n",
        "            correct += 1\n",
        "    return correct / float(len(actual)) * 100.0"
      ],
      "metadata": {
        "id": "7ofBGKo-4ox_"
      },
      "execution_count": 7,
      "outputs": []
    },
    {
      "cell_type": "code",
      "source": [
        "# Evaluating an algorithm using a cross validation split\n",
        "def Get_algorithm(dataset, algorithm, n_folds, *args):\n",
        "    folds = cross_valid_dataSplit(dataset, n_folds)\n",
        "    #zzz=print(folds)    \n",
        "    scores = list()\n",
        "    predicted = list()\n",
        "    probabilities = list()\n",
        "    for fold in folds:\n",
        "        train_set = list(folds)\n",
        "        train_set.remove(fold)\n",
        "        train_set = sum(train_set, [])\n",
        "        #dd=print(train_set)       \n",
        "        test_set = list()\n",
        "        for row in fold:\n",
        "            row_copy = list(row)\n",
        "            test_set.append(row_copy)\n",
        "            row_copy[-1] = None\n",
        "        predicted, probabilities = algorithm(train_set, test_set, *args)\n",
        "        actual = [row[-1] for row in fold]\n",
        "        accuracy = Get_accuracy_metric(actual, predicted)\n",
        "        scores.append(accuracy)\n",
        "        coef = coff_GD(train_set, l_rate, n_epoch)\n",
        "        #probabilities = predict_prob(test_set,coef)\n",
        "        predicted.append(predicted)         \n",
        "        probabilities.append(probabilities)        \n",
        "#print((predictions == Y_test).mean())        \n",
        "        \n",
        "    return scores,  predicted ,probabilities"
      ],
      "metadata": {
        "id": "VEBxzDu34t4g"
      },
      "execution_count": 8,
      "outputs": []
    },
    {
      "cell_type": "code",
      "source": [
        "# Make a prediction with coefficients\n",
        "def predict(row, coefficients):\n",
        "    yhat = coefficients[0]\n",
        "    for i in range(len(row)-1):\n",
        "        yhat += coefficients[i + 1] * row[i]\n",
        "    return 1.0 / (1.0 + exp(-yhat))"
      ],
      "metadata": {
        "id": "OT9zzOSh40Sy"
      },
      "execution_count": 9,
      "outputs": []
    },
    {
      "cell_type": "code",
      "source": [
        "# Finding logistic regression coefficients using gradient descent\n",
        "def coff_GD(train, l_rate, n_epoch):\n",
        "    coef = [0.0 for i in range(len(train[0]))]\n",
        "    for epoch in range(n_epoch):\n",
        "        for row in train:\n",
        "            yhat = predict(row, coef)\n",
        "            error = row[-1] - yhat\n",
        "            coef[0] = coef[0] + l_rate * error * yhat * (1.0 - yhat)\n",
        "            for i in range(len(row)-1):\n",
        "                coef[i + 1] = coef[i + 1] + l_rate * error * yhat * (1.0 - yhat) * row[i]\n",
        "    return coef"
      ],
      "metadata": {
        "id": "YZj15xyA45ME"
      },
      "execution_count": 10,
      "outputs": []
    },
    {
      "cell_type": "code",
      "source": [
        "# Logistic Regression Algorithm With Gradient Descent\n",
        "def logistic_regression(train, test, l_rate, n_epoch):\n",
        "    predictions = list()\n",
        "    probabilities = list()\n",
        "    coef = coff_GD(train, l_rate, n_epoch)\n",
        "    for row in test:\n",
        "        yhat = predict(row, coef) \n",
        "        probabilities.append(yhat)        \n",
        "        yhat = round(yhat)\n",
        "        predictions.append(yhat)\n",
        "    return predictions, probabilities"
      ],
      "metadata": {
        "id": "UNfHjnEX49dY"
      },
      "execution_count": 11,
      "outputs": []
    },
    {
      "cell_type": "code",
      "source": [
        "# normalize\n",
        "minmax = Get_Minmax(dataset)\n",
        "Get_normalize_dataset(dataset, minmax)"
      ],
      "metadata": {
        "id": "mW-qfGz05B1u"
      },
      "execution_count": 12,
      "outputs": []
    },
    {
      "cell_type": "code",
      "source": [
        "# Getting main result\n",
        "n_folds = 5\n",
        "l_rate = 0.1\n",
        "n_epoch = 100\n",
        "scores,  predicted ,probabilities = Get_algorithm(dataset, logistic_regression, n_folds, l_rate, n_epoch)\n",
        "print('Scores: %s' % scores)\n",
        "print('Mean Accuracy: %.3f%%' % (sum(scores)/float(len(scores))))\n",
        "# print(predicted)\n",
        "# print(probabilities)"
      ],
      "metadata": {
        "colab": {
          "base_uri": "https://localhost:8080/"
        },
        "id": "Z4dPd4P45EtM",
        "outputId": "0eb641df-4eac-41f3-9009-4acd5d005047"
      },
      "execution_count": 13,
      "outputs": [
        {
          "output_type": "stream",
          "name": "stdout",
          "text": [
            "Scores: [98.23008849557522, 98.23008849557522, 98.23008849557522, 95.57522123893806, 94.69026548672566]\n",
            "Mean Accuracy: 96.991%\n"
          ]
        }
      ]
    },
    {
      "cell_type": "code",
      "source": [
        "# Answer Question no. 4"
      ],
      "metadata": {
        "id": "p6O_jW0Z5InJ"
      },
      "execution_count": 14,
      "outputs": []
    },
    {
      "cell_type": "code",
      "source": [
        "# import numpy as np\n",
        "from sklearn.datasets import load_breast_cancer\n",
        "from sklearn.model_selection import train_test_split\n",
        "from sklearn.linear_model import LogisticRegression\n",
        "from matplotlib import pyplot as plt\n",
        "from sklearn.metrics import roc_curve, roc_auc_score"
      ],
      "metadata": {
        "id": "jwi12U3A5yNg"
      },
      "execution_count": 15,
      "outputs": []
    },
    {
      "cell_type": "code",
      "source": [
        "# load and split data\n",
        "data = load_breast_cancer()\n",
        "X = data.data\n",
        "Y = data.target\n",
        "X_train, X_test, Y_train, Y_test = train_test_split(X, Y, test_size=0.33, random_state=18)"
      ],
      "metadata": {
        "id": "7o-a2r0o51j5"
      },
      "execution_count": 16,
      "outputs": []
    },
    {
      "cell_type": "code",
      "source": [
        "def roc_curve_plot(predictions, probabilities):\n",
        "    fpr, tpr, _ = roc_curve(predictions, probabilities)\n",
        "    auc = roc_auc_score(predictions, probabilities)\n",
        "    plt.plot(fpr, tpr, label='data, auc=' + str(auc))\n",
        "    plt.legend(loc=4)\n",
        "    plt.xlabel(\"False Positive Rate\")\n",
        "    plt.ylabel(\"True Positive Rate\")\n",
        "    plt.show()"
      ],
      "metadata": {
        "id": "1YlC6Z3N9CQu"
      },
      "execution_count": 17,
      "outputs": []
    },
    {
      "cell_type": "code",
      "source": [
        "# logistic regression using sklearn library\n",
        "model = LogisticRegression(C=0.1, max_iter=10000)\n",
        "model.fit(X_train, Y_train)\n",
        "sklearn_prediction = model.predict(X_test)\n",
        "sklearn_probabilities = model.predict_proba(X_test)[::, 1]\n",
        "print((sklearn_prediction == Y_test).mean())\n",
        "\n",
        "#plot ROC curve\n",
        "roc_curve_plot(Y_test, sklearn_probabilities)"
      ],
      "metadata": {
        "colab": {
          "base_uri": "https://localhost:8080/",
          "height": 296
        },
        "id": "W2Pdyuzx9F_6",
        "outputId": "8ac47851-315d-44c5-e399-c47c681cac3b"
      },
      "execution_count": 18,
      "outputs": [
        {
          "output_type": "stream",
          "name": "stdout",
          "text": [
            "0.9414893617021277\n"
          ]
        },
        {
          "output_type": "display_data",
          "data": {
            "text/plain": [
              "<Figure size 432x288 with 1 Axes>"
            ],
            "image/png": "[encoded data removed]"
          },
          "metadata": {
            "needs_background": "light"
          }
        }
      ]
    },
    {
      "cell_type": "code",
      "source": [],
      "metadata": {
        "id": "mKa_yhjo9JdK"
      },
      "execution_count": null,
      "outputs": []
    }
  ]
}